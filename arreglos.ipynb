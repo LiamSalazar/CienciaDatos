{
 "cells": [
  {
   "cell_type": "code",
   "execution_count": null,
   "id": "4a2fa59c",
   "metadata": {},
   "outputs": [
    {
     "name": "stdout",
     "output_type": "stream",
     "text": [
      "<class 'list'>\n",
      "[[0. 0. 0. 3.]\n",
      " [0. 0. 0. 3.]\n",
      " [0. 0. 0. 3.]]\n",
      "[[0.  0.  0.  3. ]\n",
      " [1.5 1.5 1.5 4.5]\n",
      " [0.  0.  0.  3. ]]\n",
      "[[1.5 1.5 1.5 4.5]\n",
      " [3.  3.  3.  6. ]\n",
      " [1.5 1.5 1.5 4.5]]\n"
     ]
    }
   ],
   "source": [
    "import numpy as np\n",
    "\n",
    "y = [1,2,3,4]\n",
    "print(type(y))\n",
    "x = np.array([1+1j,1,2.0,3,4])\n",
    "#print(type(x))\n",
    "#print(x)\n",
    "\n",
    "arr=np.ones(5,dtype=complex) # Arreglo de 5 elementos de valores complejos\n",
    "x = np.zeros((3,4)) # Crea un arreglo de 5 filas y 4 columnas\n",
    "x[:,3]=3 # Para todas las filas de la columna\n",
    "print(x)\n",
    "x[1,:]+=1.5\n",
    "print(x)\n",
    "x = x+1.5\n",
    "print(x)\n"
   ]
  },
  {
   "cell_type": "code",
   "execution_count": 8,
   "id": "f0075a27",
   "metadata": {},
   "outputs": [
    {
     "name": "stdout",
     "output_type": "stream",
     "text": [
      "\n",
      "[[0.94824563 0.49162617 0.20282324 0.2243429 ]\n",
      " [0.84529771 0.4167911  0.0808634  0.63729742]\n",
      " [0.25098183 0.10045853 0.64123569 0.93289981]\n",
      " [0.48385801 0.9777424  0.42056511 0.97474901]]\n",
      "\n",
      "[[0.94824563 0.49162617 0.20282324 0.2243429 ]\n",
      " [0.84529771 0.4167911  0.0808634  0.63729742]\n",
      " [0.48385801 0.9777424  0.42056511 0.97474901]]\n",
      "\n",
      "[[0.94824563 0.20282324 0.2243429 ]\n",
      " [0.84529771 0.0808634  0.63729742]\n",
      " [0.48385801 0.42056511 0.97474901]]\n"
     ]
    }
   ],
   "source": [
    "import numpy as np\n",
    "\n",
    "matriz = np.random.rand(4,4) #Genera una matriz de valores aleatorios\n",
    "print(\"\")\n",
    "print(matriz)\n",
    "matriz2 = np.delete(matriz,2,axis=0)\n",
    "\n",
    "print(\"\")\n",
    "print(matriz2)\n",
    "matriz3=np.delete(matriz2,1,axis=1)\n",
    "\n",
    "print(\"\")\n",
    "print(matriz3)"
   ]
  },
  {
   "cell_type": "code",
   "execution_count": 25,
   "id": "9c5c5a59",
   "metadata": {},
   "outputs": [
    {
     "name": "stdout",
     "output_type": "stream",
     "text": [
      "[[ 0.  0.  0.  0.  0.  0.  0.  0.  0.  0.]\n",
      " [ 0. 10.  0. 10.  0. 10.  0. 10.  0. 10.]\n",
      " [ 0.  0.  0.  0.  0.  0.  0.  0.  0.  0.]\n",
      " [ 0. 10.  0. 10.  0. 10.  0. 10.  0. 10.]\n",
      " [ 0.  0.  0.  0.  0.  0.  0.  0.  0.  0.]\n",
      " [ 0. 10.  0. 10.  0. 10.  0. 10.  0. 10.]\n",
      " [ 0.  0.  0.  0.  0.  0.  0.  0.  0.  0.]\n",
      " [ 0. 10.  0. 10.  0. 10.  0. 10.  0. 10.]\n",
      " [ 0.  0.  0.  0.  0.  0.  0.  0.  0.  0.]\n",
      " [ 0. 10.  0. 10.  0. 10.  0. 10.  0. 10.]]\n"
     ]
    },
    {
     "data": {
      "text/plain": [
       "<matplotlib.image.AxesImage at 0x254ed8d1950>"
      ]
     },
     "execution_count": 25,
     "metadata": {},
     "output_type": "execute_result"
    },
    {
     "data": {
      "image/png": "[encoded data removed]",
      "text/plain": [
       "<Figure size 600x200 with 3 Axes>"
      ]
     },
     "metadata": {},
     "output_type": "display_data"
    }
   ],
   "source": [
    "import numpy as np\n",
    "import matplotlib.pyplot as plt\n",
    "\n",
    "fig,axes=plt.subplots(1,3,figsize=(6,2))\n",
    "a = np.ones((10,10))\n",
    "x = 0\n",
    "\n",
    "for i in range(0,10):\n",
    "    if x == 0:\n",
    "        a[i,:]=0\n",
    "    x = 1-x\n",
    "axes[0].imshow(a)\n",
    "\n",
    "b = np.ones((10,10))\n",
    "x = 0\n",
    "for j in range(10):\n",
    "    if x == 0:\n",
    "        b[:,j] = 0\n",
    "    x = 1-x\n",
    "axes[1].imshow(b)\n",
    "\n",
    "c = np.dot(a,b)\n",
    "axes[2].imshow(b)\n",
    "print(c)\n",
    "axes[2].set_title(\"axb\")\n",
    "axes[2].imshow(c)"
   ]
  },
  {
   "cell_type": "code",
   "execution_count": null,
   "id": "bd371e84",
   "metadata": {},
   "outputs": [
    {
     "data": {
      "image/png": "[encoded data removed]",
      "text/plain": [
       "<Figure size 400x400 with 1 Axes>"
      ]
     },
     "metadata": {},
     "output_type": "display_data"
    }
   ],
   "source": [
    "import numpy as np\n",
    "import matplotlib.pyplot as plt\n",
    "\n",
    "m = np.zeros((7,7), dtype=int)\n",
    "\n",
    "m[2,1] = 1  \n",
    "m[2,5] = 1  \n",
    "\n",
    "m[5,1:6] = 1  # fila 4, columnas 2,3,4,5\n",
    "m[4,1] = 1 \n",
    "m[4,5] = 1 \n",
    "\n",
    "plt.figure(figsize=(4,4))\n",
    "plt.imshow(m, interpolation='none')\n",
    "plt.xticks(range(7))\n",
    "plt.yticks(range(7))\n",
    "plt.gca().set_xticks(np.arange(-0.5, 7, 1), minor=True)\n",
    "plt.gca().set_yticks(np.arange(-0.5, 7, 1), minor=True)\n",
    "plt.grid(which='minor')\n",
    "plt.gca().tick_params(axis='both', which='both', length=0)\n",
    "plt.show()\n"
   ]
  }
 ],
 "metadata": {
  "kernelspec": {
   "display_name": "Python 3",
   "language": "python",
   "name": "python3"
  },
  "language_info": {
   "codemirror_mode": {
    "name": "ipython",
    "version": 3
   },
   "file_extension": ".py",
   "mimetype": "text/x-python",
   "name": "python",
   "nbconvert_exporter": "python",
   "pygments_lexer": "ipython3",
   "version": "3.11.5"
  }
 },
 "nbformat": 4,
 "nbformat_minor": 5
}
