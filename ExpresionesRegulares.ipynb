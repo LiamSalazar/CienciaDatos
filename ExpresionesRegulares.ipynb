{
 "cells": [
  {
   "cell_type": "code",
   "execution_count": 2,
   "id": "1371a153",
   "metadata": {},
   "outputs": [
    {
     "name": "stdout",
     "output_type": "stream",
     "text": [
      "['A', 'l', 'l', ' ', 'w', 'h', 'a', 't', ' ', 'w', 'e', ' ', 's', 'e', 'e', ' ', 'o', 'r', ' ', 's', 'e', 'e', 'm', ' ', 'i', 's', ' ', 'b', 'u', 't', ' ', 'a', ' ', 'd', 'r', 'e', 'a', 'm', ' ', 'w', 'i', 't', 'h', 'i', 'n', ' ', 'a', ' ', 'd', 'r', 'e', 'a', 'm', '.']\n",
      "['a', 'e', 'e', 'e', 'o', 'e', 'e', 'i', 'u', 'a', 'e', 'a', 'i', 'i', 'a', 'e', 'a']\n",
      "*xpr*s**n*s r*g*l*r*s s*n út*l*s\n"
     ]
    }
   ],
   "source": [
    "import re as re\n",
    "\n",
    "# \\w coincide con cualquier caracter alfanumérico\n",
    "# \\d coincide con cualquier dígito\n",
    "# \\D un no dígito\n",
    "# \\s espacio en blanco (espacio, tab, salto de línea)\n",
    "# \\S todo lo que no sea espacio en blanco\n",
    "# . cualquier caracter excepto salto de línea\n",
    "print(re.findall('.', 'All what we see or seem is but a dream within a dream.'))\n",
    "print(re.findall('[aeiou]','All what we see or seem is but a dream within a dream.'))\n",
    "\n",
    "texto = \"Expresiones regulares son útiles\"\n",
    "patron = '[aeiouAEIOU]'\n",
    "\n",
    "resultado = re.sub(patron,\"*\",texto) # Reemplaza todas las vocales por asteriscos\n",
    "print(resultado)"
   ]
  }
 ],
 "metadata": {
  "kernelspec": {
   "display_name": "Python 3",
   "language": "python",
   "name": "python3"
  },
  "language_info": {
   "codemirror_mode": {
    "name": "ipython",
    "version": 3
   },
   "file_extension": ".py",
   "mimetype": "text/x-python",
   "name": "python",
   "nbconvert_exporter": "python",
   "pygments_lexer": "ipython3",
   "version": "3.11.5"
  }
 },
 "nbformat": 4,
 "nbformat_minor": 5
}
