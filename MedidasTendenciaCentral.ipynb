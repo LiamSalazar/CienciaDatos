{
 "cells": [
  {
   "cell_type": "markdown",
   "id": "c2d959df",
   "metadata": {},
   "source": [
    "Medidas de tendencia central\n",
    "Sirven para describir o caracterizar variables.\n",
    "Media o promedio:\n",
    "x = SUMA(xi)/N"
   ]
  }
 ],
 "metadata": {
  "language_info": {
   "name": "python"
  }
 },
 "nbformat": 4,
 "nbformat_minor": 5
}
